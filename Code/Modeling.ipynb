{
 "cells": [
  {
   "cell_type": "markdown",
   "metadata": {},
   "source": [
    "# Modeling"
   ]
  },
  {
   "cell_type": "markdown",
   "metadata": {},
   "source": [
    "### Contents:\n",
    "- [Import Packages](#Import-Packages)\n",
    "- [EDA](#EDA)\n",
    "- [Preprocessing](#Preprocessing)\n",
    "- [Modelling](#Modelling)\n",
    "- [Baseline Model](#Baseline-Model)"
   ]
  },
  {
   "cell_type": "markdown",
   "metadata": {},
   "source": [
    "## Import Packages"
   ]
  },
  {
   "cell_type": "code",
   "execution_count": 1,
   "metadata": {},
   "outputs": [],
   "source": [
    "import pandas as pd\n",
    "from sklearn.feature_extraction.text import CountVectorizer, TfidfVectorizer\n",
    "from sklearn.feature_extraction import stop_words\n",
    "from nltk.stem.porter import PorterStemmer\n",
    "\n",
    "from bs4 import BeautifulSoup \n",
    "\n",
    "import numpy as np\n",
    "import pandas as pd\n",
    "import scipy.stats as stats\n",
    "\n",
    "from sklearn.linear_model import LinearRegression, Ridge, Lasso, RidgeCV, LassoCV, LogisticRegression\n",
    "from sklearn.model_selection import train_test_split, cross_val_score, GridSearchCV\n",
    "from sklearn.metrics import mean_squared_error, accuracy_score\n",
    "from sklearn.preprocessing import PolynomialFeatures, StandardScaler\n",
    "from sklearn.pipeline import Pipeline\n",
    "from sklearn.feature_extraction.text import CountVectorizer, TfidfVectorizer\n",
    "from sklearn.feature_extraction import stop_words\n",
    "\n",
    "from sklearn.neighbors import KNeighborsClassifier, KNeighborsRegressor\n",
    "\n",
    "\n",
    "# Import Tokenizer\n",
    "from nltk.tokenize import RegexpTokenizer\n",
    "\n",
    "# Import Regular Expressions\n",
    "import regex as re\n",
    "\n",
    "from sklearn.naive_bayes import MultinomialNB, GaussianNB\n",
    "\n",
    "# Import model.\n",
    "from sklearn.tree import DecisionTreeClassifier\n",
    "from sklearn.ensemble import BaggingClassifier, RandomForestClassifier, AdaBoostClassifier\n",
    "\n",
    "from sklearn.ensemble import BaggingClassifier, BaggingRegressor, RandomForestClassifier, RandomForestRegressor, ExtraTreesClassifier, AdaBoostClassifier, AdaBoostRegressor, GradientBoostingClassifier \n",
    "\n",
    "from sklearn.svm import SVR, SVC\n",
    "\n",
    "from sklearn.metrics import roc_auc_score, confusion_matrix\n",
    "import matplotlib.pyplot as plt\n",
    "import seaborn as sns\n",
    "import os\n",
    "\n",
    "from nltk.corpus import stopwords\n",
    "\n",
    "\n",
    "%matplotlib inline"
   ]
  },
  {
   "cell_type": "code",
   "execution_count": 2,
   "metadata": {},
   "outputs": [],
   "source": [
    "import warnings\n",
    "warnings.filterwarnings(\"ignore\")"
   ]
  },
  {
   "cell_type": "markdown",
   "metadata": {},
   "source": [
    "## EDA"
   ]
  },
  {
   "cell_type": "code",
   "execution_count": 3,
   "metadata": {},
   "outputs": [
    {
     "data": {
      "text/html": [
       "<div>\n",
       "<style scoped>\n",
       "    .dataframe tbody tr th:only-of-type {\n",
       "        vertical-align: middle;\n",
       "    }\n",
       "\n",
       "    .dataframe tbody tr th {\n",
       "        vertical-align: top;\n",
       "    }\n",
       "\n",
       "    .dataframe thead th {\n",
       "        text-align: right;\n",
       "    }\n",
       "</style>\n",
       "<table border=\"1\" class=\"dataframe\">\n",
       "  <thead>\n",
       "    <tr style=\"text-align: right;\">\n",
       "      <th></th>\n",
       "      <th>Unnamed: 0</th>\n",
       "      <th>Date</th>\n",
       "      <th>Favorites</th>\n",
       "      <th>HashTags</th>\n",
       "      <th>Mentions</th>\n",
       "      <th>Retweets</th>\n",
       "      <th>Text</th>\n",
       "      <th>location</th>\n",
       "      <th>target</th>\n",
       "      <th>user_split</th>\n",
       "      <th>user_text</th>\n",
       "    </tr>\n",
       "  </thead>\n",
       "  <tbody>\n",
       "    <tr>\n",
       "      <td>0</td>\n",
       "      <td>0</td>\n",
       "      <td>2019-07-19 22:26:34+00:00</td>\n",
       "      <td>0</td>\n",
       "      <td>None</td>\n",
       "      <td>None</td>\n",
       "      <td>0</td>\n",
       "      <td>my dad just told me to flood my car so I can g...</td>\n",
       "      <td>WI</td>\n",
       "      <td>0</td>\n",
       "      <td>chaaasiti04</td>\n",
       "      <td>chaaasiti04 my dad just told me to flood my ca...</td>\n",
       "    </tr>\n",
       "    <tr>\n",
       "      <td>1</td>\n",
       "      <td>1</td>\n",
       "      <td>2019-07-19 22:19:05+00:00</td>\n",
       "      <td>1</td>\n",
       "      <td>None</td>\n",
       "      <td>None</td>\n",
       "      <td>2</td>\n",
       "      <td>Happy B-day Reggie, from the office!!!</td>\n",
       "      <td>WI</td>\n",
       "      <td>0</td>\n",
       "      <td>JDenius</td>\n",
       "      <td>JDenius Happy B-day Reggie, from the office!!!</td>\n",
       "    </tr>\n",
       "    <tr>\n",
       "      <td>2</td>\n",
       "      <td>2</td>\n",
       "      <td>2019-07-19 22:17:13+00:00</td>\n",
       "      <td>0</td>\n",
       "      <td>None</td>\n",
       "      <td>None</td>\n",
       "      <td>0</td>\n",
       "      <td>Something about how crime will magically drop ...</td>\n",
       "      <td>WI</td>\n",
       "      <td>0</td>\n",
       "      <td>beganovic2021</td>\n",
       "      <td>beganovic2021 Something about how crime will m...</td>\n",
       "    </tr>\n",
       "    <tr>\n",
       "      <td>3</td>\n",
       "      <td>3</td>\n",
       "      <td>2019-07-19 20:57:18+00:00</td>\n",
       "      <td>0</td>\n",
       "      <td>None</td>\n",
       "      <td>None</td>\n",
       "      <td>0</td>\n",
       "      <td>Lol mine too. I’ve been avoiding floods for th...</td>\n",
       "      <td>WI</td>\n",
       "      <td>0</td>\n",
       "      <td>RiskItAllRichy</td>\n",
       "      <td>RiskItAllRichy Lol mine too. I’ve been avoidin...</td>\n",
       "    </tr>\n",
       "    <tr>\n",
       "      <td>4</td>\n",
       "      <td>4</td>\n",
       "      <td>2019-07-19 19:53:44+00:00</td>\n",
       "      <td>0</td>\n",
       "      <td>None</td>\n",
       "      <td>@RAGBRAI_IOWA</td>\n",
       "      <td>2</td>\n",
       "      <td>Riding the bus along I29 to @RAGBRAI_IOWA and ...</td>\n",
       "      <td>WI</td>\n",
       "      <td>1</td>\n",
       "      <td>CajunCy</td>\n",
       "      <td>CajunCy Riding the bus along I29 to @RAGBRAI_I...</td>\n",
       "    </tr>\n",
       "  </tbody>\n",
       "</table>\n",
       "</div>"
      ],
      "text/plain": [
       "   Unnamed: 0                       Date  Favorites HashTags       Mentions  \\\n",
       "0           0  2019-07-19 22:26:34+00:00          0     None           None   \n",
       "1           1  2019-07-19 22:19:05+00:00          1     None           None   \n",
       "2           2  2019-07-19 22:17:13+00:00          0     None           None   \n",
       "3           3  2019-07-19 20:57:18+00:00          0     None           None   \n",
       "4           4  2019-07-19 19:53:44+00:00          0     None  @RAGBRAI_IOWA   \n",
       "\n",
       "   Retweets                                               Text location  \\\n",
       "0         0  my dad just told me to flood my car so I can g...       WI   \n",
       "1         2             Happy B-day Reggie, from the office!!!       WI   \n",
       "2         0  Something about how crime will magically drop ...       WI   \n",
       "3         0  Lol mine too. I’ve been avoiding floods for th...       WI   \n",
       "4         2  Riding the bus along I29 to @RAGBRAI_IOWA and ...       WI   \n",
       "\n",
       "   target      user_split                                          user_text  \n",
       "0       0     chaaasiti04  chaaasiti04 my dad just told me to flood my ca...  \n",
       "1       0         JDenius     JDenius Happy B-day Reggie, from the office!!!  \n",
       "2       0   beganovic2021  beganovic2021 Something about how crime will m...  \n",
       "3       0  RiskItAllRichy  RiskItAllRichy Lol mine too. I’ve been avoidin...  \n",
       "4       1         CajunCy  CajunCy Riding the bus along I29 to @RAGBRAI_I...  "
      ]
     },
     "execution_count": 3,
     "metadata": {},
     "output_type": "execute_result"
    }
   ],
   "source": [
    "df = pd.read_csv('../Datasets/df_IA_TX_WI_clean_adjusted.csv')\n",
    "df.head()"
   ]
  },
  {
   "cell_type": "code",
   "execution_count": 4,
   "metadata": {},
   "outputs": [],
   "source": [
    "# drop 'Unnamed: 0' column\n",
    "df.drop(columns=['Unnamed: 0'], inplace = True)"
   ]
  },
  {
   "cell_type": "code",
   "execution_count": 5,
   "metadata": {},
   "outputs": [
    {
     "data": {
      "text/html": [
       "<div>\n",
       "<style scoped>\n",
       "    .dataframe tbody tr th:only-of-type {\n",
       "        vertical-align: middle;\n",
       "    }\n",
       "\n",
       "    .dataframe tbody tr th {\n",
       "        vertical-align: top;\n",
       "    }\n",
       "\n",
       "    .dataframe thead th {\n",
       "        text-align: right;\n",
       "    }\n",
       "</style>\n",
       "<table border=\"1\" class=\"dataframe\">\n",
       "  <thead>\n",
       "    <tr style=\"text-align: right;\">\n",
       "      <th></th>\n",
       "      <th>Date</th>\n",
       "      <th>Favorites</th>\n",
       "      <th>HashTags</th>\n",
       "      <th>Mentions</th>\n",
       "      <th>Retweets</th>\n",
       "      <th>Text</th>\n",
       "      <th>location</th>\n",
       "      <th>target</th>\n",
       "      <th>user_split</th>\n",
       "      <th>user_text</th>\n",
       "    </tr>\n",
       "  </thead>\n",
       "  <tbody>\n",
       "    <tr>\n",
       "      <td>0</td>\n",
       "      <td>2019-07-19 22:26:34+00:00</td>\n",
       "      <td>0</td>\n",
       "      <td>None</td>\n",
       "      <td>None</td>\n",
       "      <td>0</td>\n",
       "      <td>my dad just told me to flood my car so I can g...</td>\n",
       "      <td>WI</td>\n",
       "      <td>0</td>\n",
       "      <td>chaaasiti04</td>\n",
       "      <td>chaaasiti04 my dad just told me to flood my ca...</td>\n",
       "    </tr>\n",
       "    <tr>\n",
       "      <td>1</td>\n",
       "      <td>2019-07-19 22:19:05+00:00</td>\n",
       "      <td>1</td>\n",
       "      <td>None</td>\n",
       "      <td>None</td>\n",
       "      <td>2</td>\n",
       "      <td>Happy B-day Reggie, from the office!!!</td>\n",
       "      <td>WI</td>\n",
       "      <td>0</td>\n",
       "      <td>JDenius</td>\n",
       "      <td>JDenius Happy B-day Reggie, from the office!!!</td>\n",
       "    </tr>\n",
       "    <tr>\n",
       "      <td>2</td>\n",
       "      <td>2019-07-19 22:17:13+00:00</td>\n",
       "      <td>0</td>\n",
       "      <td>None</td>\n",
       "      <td>None</td>\n",
       "      <td>0</td>\n",
       "      <td>Something about how crime will magically drop ...</td>\n",
       "      <td>WI</td>\n",
       "      <td>0</td>\n",
       "      <td>beganovic2021</td>\n",
       "      <td>beganovic2021 Something about how crime will m...</td>\n",
       "    </tr>\n",
       "    <tr>\n",
       "      <td>3</td>\n",
       "      <td>2019-07-19 20:57:18+00:00</td>\n",
       "      <td>0</td>\n",
       "      <td>None</td>\n",
       "      <td>None</td>\n",
       "      <td>0</td>\n",
       "      <td>Lol mine too. I’ve been avoiding floods for th...</td>\n",
       "      <td>WI</td>\n",
       "      <td>0</td>\n",
       "      <td>RiskItAllRichy</td>\n",
       "      <td>RiskItAllRichy Lol mine too. I’ve been avoidin...</td>\n",
       "    </tr>\n",
       "    <tr>\n",
       "      <td>4</td>\n",
       "      <td>2019-07-19 19:53:44+00:00</td>\n",
       "      <td>0</td>\n",
       "      <td>None</td>\n",
       "      <td>@RAGBRAI_IOWA</td>\n",
       "      <td>2</td>\n",
       "      <td>Riding the bus along I29 to @RAGBRAI_IOWA and ...</td>\n",
       "      <td>WI</td>\n",
       "      <td>1</td>\n",
       "      <td>CajunCy</td>\n",
       "      <td>CajunCy Riding the bus along I29 to @RAGBRAI_I...</td>\n",
       "    </tr>\n",
       "  </tbody>\n",
       "</table>\n",
       "</div>"
      ],
      "text/plain": [
       "                        Date  Favorites HashTags       Mentions  Retweets  \\\n",
       "0  2019-07-19 22:26:34+00:00          0     None           None         0   \n",
       "1  2019-07-19 22:19:05+00:00          1     None           None         2   \n",
       "2  2019-07-19 22:17:13+00:00          0     None           None         0   \n",
       "3  2019-07-19 20:57:18+00:00          0     None           None         0   \n",
       "4  2019-07-19 19:53:44+00:00          0     None  @RAGBRAI_IOWA         2   \n",
       "\n",
       "                                                Text location  target  \\\n",
       "0  my dad just told me to flood my car so I can g...       WI       0   \n",
       "1             Happy B-day Reggie, from the office!!!       WI       0   \n",
       "2  Something about how crime will magically drop ...       WI       0   \n",
       "3  Lol mine too. I’ve been avoiding floods for th...       WI       0   \n",
       "4  Riding the bus along I29 to @RAGBRAI_IOWA and ...       WI       1   \n",
       "\n",
       "       user_split                                          user_text  \n",
       "0     chaaasiti04  chaaasiti04 my dad just told me to flood my ca...  \n",
       "1         JDenius     JDenius Happy B-day Reggie, from the office!!!  \n",
       "2   beganovic2021  beganovic2021 Something about how crime will m...  \n",
       "3  RiskItAllRichy  RiskItAllRichy Lol mine too. I’ve been avoidin...  \n",
       "4         CajunCy  CajunCy Riding the bus along I29 to @RAGBRAI_I...  "
      ]
     },
     "execution_count": 5,
     "metadata": {},
     "output_type": "execute_result"
    }
   ],
   "source": [
    "df.head()"
   ]
  },
  {
   "cell_type": "code",
   "execution_count": 6,
   "metadata": {},
   "outputs": [
    {
     "name": "stdout",
     "output_type": "stream",
     "text": [
      "<class 'pandas.core.frame.DataFrame'>\n",
      "RangeIndex: 3039 entries, 0 to 3038\n",
      "Data columns (total 10 columns):\n",
      "Date          3039 non-null object\n",
      "Favorites     3039 non-null int64\n",
      "HashTags      3039 non-null object\n",
      "Mentions      3039 non-null object\n",
      "Retweets      3039 non-null int64\n",
      "Text          3039 non-null object\n",
      "location      3039 non-null object\n",
      "target        3039 non-null int64\n",
      "user_split    3039 non-null object\n",
      "user_text     3039 non-null object\n",
      "dtypes: int64(3), object(7)\n",
      "memory usage: 237.5+ KB\n"
     ]
    }
   ],
   "source": [
    "df.info()"
   ]
  },
  {
   "cell_type": "code",
   "execution_count": 7,
   "metadata": {},
   "outputs": [
    {
     "data": {
      "text/plain": [
       "0       chaaasiti04 my dad just told me to flood my ca...\n",
       "1          JDenius Happy B-day Reggie, from the office!!!\n",
       "2       beganovic2021 Something about how crime will m...\n",
       "3       RiskItAllRichy Lol mine too. I’ve been avoidin...\n",
       "4       CajunCy Riding the bus along I29 to @RAGBRAI_I...\n",
       "                              ...                        \n",
       "3034    DjRed ScrewedUp #Repost realierealind ・・・ @Ric...\n",
       "3035    EddieMark718 Are you ready for #hurricanejose?...\n",
       "3036    KennyBraunPhoto Post flood in the camp house. ...\n",
       "3037     ms flood Drinking a Monoprint Oktoberfest by ...\n",
       "3038     ms flood Drinking a Athena Paradiso (Tart Che...\n",
       "Name: user_text, Length: 3039, dtype: object"
      ]
     },
     "execution_count": 7,
     "metadata": {},
     "output_type": "execute_result"
    }
   ],
   "source": [
    "df['user_text']"
   ]
  },
  {
   "cell_type": "markdown",
   "metadata": {},
   "source": [
    "## Preprocessing"
   ]
  },
  {
   "cell_type": "code",
   "execution_count": 8,
   "metadata": {},
   "outputs": [],
   "source": [
    "# adapted from our NLP Lecture 5.03\n",
    "def text_to_words(text):\n",
    "    \n",
    "    # 1. Remove HTML.\n",
    "    review_text = BeautifulSoup(text).get_text()\n",
    "    \n",
    "    # 2. Remove non-letters.\n",
    "    letters_only = re.sub(\"[^a-zA-Z]\", \" \", text)\n",
    "    \n",
    "    # 3. Convert to lower case, split into individual words.\n",
    "    words = letters_only.lower().split()\n",
    "    \n",
    "    # 4. In Python, searching a set is much faster than searching\n",
    "    # a list, so convert the stopwords to a set.\n",
    "    stops = set(stopwords.words('english'))\n",
    "    \n",
    "    # 5. Remove stopwords.\n",
    "    meaningful_words = [w for w in words if w not in stops]\n",
    "    \n",
    "    # 6. Join the words back into one string separated by space, \n",
    "    # and return the result.\n",
    "    return(\" \".join(meaningful_words))"
   ]
  },
  {
   "cell_type": "code",
   "execution_count": 9,
   "metadata": {},
   "outputs": [],
   "source": [
    "def stemmed_words(text):\n",
    "    # Instantiate tokenizer.\n",
    "    tokenizer = RegexpTokenizer(r'\\w+')\n",
    "    # Tokenize text.\n",
    "    tokens = tokenizer.tokenize(text.lower())\n",
    "    # Instantiate stemmer.\n",
    "    p_stemmer = PorterStemmer()\n",
    "    # Stem words.\n",
    "    stemmed_words = [p_stemmer.stem(word) for word in tokens]\n",
    "    return stemmed_words"
   ]
  },
  {
   "cell_type": "code",
   "execution_count": 10,
   "metadata": {},
   "outputs": [
    {
     "data": {
      "text/plain": [
       "Int64Index([  40,   52,   59,   60,   76,   78,   94,   99,  103,  153,\n",
       "            ...\n",
       "            2858, 2873, 2887, 2888, 2895, 2906, 2929, 2980, 2982, 2990],\n",
       "           dtype='int64', length=300)"
      ]
     },
     "execution_count": 10,
     "metadata": {},
     "output_type": "execute_result"
    }
   ],
   "source": [
    "df[df['Text'].str.contains('&amp')].index"
   ]
  },
  {
   "cell_type": "code",
   "execution_count": 11,
   "metadata": {},
   "outputs": [],
   "source": [
    "df.replace({'&amp;': 'and'},  inplace=True, regex=True)"
   ]
  },
  {
   "cell_type": "code",
   "execution_count": 12,
   "metadata": {},
   "outputs": [],
   "source": [
    "df['adj_text'] = [text_to_words(row) for row in df['Text']] \n",
    "df['adj_text_stem'] = [' '.join(stemmed_words(row)) for row in df['adj_text']]"
   ]
  },
  {
   "cell_type": "code",
   "execution_count": 13,
   "metadata": {},
   "outputs": [
    {
     "data": {
      "text/plain": [
       "1    0.525831\n",
       "0    0.474169\n",
       "Name: target, dtype: float64"
      ]
     },
     "execution_count": 13,
     "metadata": {},
     "output_type": "execute_result"
    }
   ],
   "source": [
    "df['target'].value_counts(normalize = True)"
   ]
  },
  {
   "cell_type": "code",
   "execution_count": 14,
   "metadata": {},
   "outputs": [],
   "source": [
    "df.to_csv('../Datasets/df_concat_adjusted_stem.csv')"
   ]
  },
  {
   "cell_type": "markdown",
   "metadata": {},
   "source": [
    "## Modeling"
   ]
  },
  {
   "cell_type": "code",
   "execution_count": 15,
   "metadata": {},
   "outputs": [],
   "source": [
    "X = df['adj_text_stem']\n",
    "y = df['target']"
   ]
  },
  {
   "cell_type": "code",
   "execution_count": 16,
   "metadata": {},
   "outputs": [
    {
     "data": {
      "text/plain": [
       "(3039,)"
      ]
     },
     "execution_count": 16,
     "metadata": {},
     "output_type": "execute_result"
    }
   ],
   "source": [
    "X.shape"
   ]
  },
  {
   "cell_type": "code",
   "execution_count": 17,
   "metadata": {},
   "outputs": [
    {
     "data": {
      "text/plain": [
       "(3039,)"
      ]
     },
     "execution_count": 17,
     "metadata": {},
     "output_type": "execute_result"
    }
   ],
   "source": [
    "y.shape"
   ]
  },
  {
   "cell_type": "code",
   "execution_count": 18,
   "metadata": {},
   "outputs": [],
   "source": [
    "X_train, X_test, y_train, y_test = train_test_split(X,\n",
    "                                                    y,\n",
    "                                                    stratify = y,\n",
    "                                                    random_state=42)"
   ]
  },
  {
   "cell_type": "code",
   "execution_count": 19,
   "metadata": {},
   "outputs": [
    {
     "data": {
      "text/plain": [
       "(2279,)"
      ]
     },
     "execution_count": 19,
     "metadata": {},
     "output_type": "execute_result"
    }
   ],
   "source": [
    "X_train.shape"
   ]
  },
  {
   "cell_type": "code",
   "execution_count": 20,
   "metadata": {},
   "outputs": [
    {
     "data": {
      "text/plain": [
       "(2279,)"
      ]
     },
     "execution_count": 20,
     "metadata": {},
     "output_type": "execute_result"
    }
   ],
   "source": [
    "y_train.shape"
   ]
  },
  {
   "cell_type": "code",
   "execution_count": 21,
   "metadata": {},
   "outputs": [],
   "source": [
    "def multi_pipe(vectorizers, models):\n",
    "    vect = []\n",
    "    mod = []\n",
    "    train_score = []\n",
    "    test_score = []\n",
    "    sens = []\n",
    "    spec = []\n",
    "    fpr = []\n",
    "    acc = []\n",
    "    ROC_AUC = []\n",
    "    misclass = []\n",
    "    for vectorizer in vectorizers:\n",
    "        for model in models:\n",
    "            pipe = Pipeline([('vec', vectorizer), \n",
    "                        ('model', model)])\n",
    "            pipe_params = {\n",
    "                \"vec__max_features\": [250, 500, 750, 1000, 1500, 2000],\n",
    "                \"vec__ngram_range\": [(1,1),(1,2), (1,3)],\n",
    "                \"vec__stop_words\": ['english', None]\n",
    "            }\n",
    "            grid_search = GridSearchCV(pipe, # what object are we optimizing?\n",
    "                          pipe_params,\n",
    "                        scoring= 'accuracy',# what parameters values are we searching?\n",
    "                          cv=5)\n",
    "            grid_search.fit(X_train, y_train)  \n",
    "            model= grid_search.best_estimator_\n",
    "            \n",
    "            # Model training and test scores\n",
    "            train_score.append(round(model.score(X_train, y_train), 3))\n",
    "            test_score.append(round(model.score(X_test, y_test), 3))\n",
    "            \n",
    "            # Metric Calculations\n",
    "            preds = model.predict(X_test) \n",
    "            tn, fp, fn, tp = confusion_matrix(y_test,\n",
    "                                          preds).ravel()\n",
    "            sens.append(round(tp/(fn+tp), 3))\n",
    "            spec.append(round(tn/(tn+fp), 3))\n",
    "            fpr.append(round(1-(tn/(tn+fp)), 3))\n",
    "            acc.append(round((tp+tn)/(tn+tp+fp+fn), 3))\n",
    "            misclass.append(round(1-((tp+tn)/(tn+tp+fp+fn)), 3)) \n",
    "            \n",
    "            #ROC AUC Calculations\n",
    "            pred_proba = [i[1] for i in model.predict_proba(X_test)]\n",
    "            pred_df = pd.DataFrame(data = {'true_values': y_test,'pred_probs':pred_proba})\n",
    "            ROC_AUC.append(round(roc_auc_score(pred_df[\"true_values\"], pred_df[\"pred_probs\"]), 3))\n",
    "            \n",
    "            vect.append(vectorizer)\n",
    "            mod.append(model)\n",
    "            \n",
    "    results = pd.DataFrame({'Model': mod,\n",
    "                            'Vectorizer': vect,\n",
    "                            'Training Score': train_score,\n",
    "                            'Testing Score': test_score,\n",
    "                            'Sensitivity': sens,\n",
    "                            'Specificity': spec,\n",
    "                            'False Positive Rate': fpr,\n",
    "                            'Accuracy': acc,\n",
    "                            'Misclassification Rate': misclass,\n",
    "                           'ROC AUC Score': ROC_AUC})\n",
    "    return results"
   ]
  },
  {
   "cell_type": "code",
   "execution_count": 22,
   "metadata": {},
   "outputs": [],
   "source": [
    "vectorizers = [CountVectorizer(), \n",
    "               TfidfVectorizer()]\n",
    "models = [LogisticRegression(),\n",
    "          KNeighborsClassifier(),\n",
    "          MultinomialNB(), \n",
    "          DecisionTreeClassifier(), \n",
    "          BaggingClassifier(), \n",
    "          RandomForestClassifier()\n",
    "         ]"
   ]
  },
  {
   "cell_type": "code",
   "execution_count": 23,
   "metadata": {},
   "outputs": [
    {
     "data": {
      "text/html": [
       "<div>\n",
       "<style scoped>\n",
       "    .dataframe tbody tr th:only-of-type {\n",
       "        vertical-align: middle;\n",
       "    }\n",
       "\n",
       "    .dataframe tbody tr th {\n",
       "        vertical-align: top;\n",
       "    }\n",
       "\n",
       "    .dataframe thead th {\n",
       "        text-align: right;\n",
       "    }\n",
       "</style>\n",
       "<table border=\"1\" class=\"dataframe\">\n",
       "  <thead>\n",
       "    <tr style=\"text-align: right;\">\n",
       "      <th></th>\n",
       "      <th>Model</th>\n",
       "      <th>Vectorizer</th>\n",
       "      <th>Training Score</th>\n",
       "      <th>Testing Score</th>\n",
       "      <th>Sensitivity</th>\n",
       "      <th>Specificity</th>\n",
       "      <th>False Positive Rate</th>\n",
       "      <th>Accuracy</th>\n",
       "      <th>Misclassification Rate</th>\n",
       "      <th>ROC AUC Score</th>\n",
       "    </tr>\n",
       "  </thead>\n",
       "  <tbody>\n",
       "    <tr>\n",
       "      <td>0</td>\n",
       "      <td>(CountVectorizer(analyzer='word', binary=False...</td>\n",
       "      <td>CountVectorizer(analyzer='word', binary=False,...</td>\n",
       "      <td>0.960</td>\n",
       "      <td>0.897</td>\n",
       "      <td>0.872</td>\n",
       "      <td>0.925</td>\n",
       "      <td>0.075</td>\n",
       "      <td>0.897</td>\n",
       "      <td>0.103</td>\n",
       "      <td>0.949</td>\n",
       "    </tr>\n",
       "    <tr>\n",
       "      <td>1</td>\n",
       "      <td>(CountVectorizer(analyzer='word', binary=False...</td>\n",
       "      <td>CountVectorizer(analyzer='word', binary=False,...</td>\n",
       "      <td>0.907</td>\n",
       "      <td>0.896</td>\n",
       "      <td>0.840</td>\n",
       "      <td>0.958</td>\n",
       "      <td>0.042</td>\n",
       "      <td>0.896</td>\n",
       "      <td>0.104</td>\n",
       "      <td>0.942</td>\n",
       "    </tr>\n",
       "    <tr>\n",
       "      <td>2</td>\n",
       "      <td>(CountVectorizer(analyzer='word', binary=False...</td>\n",
       "      <td>CountVectorizer(analyzer='word', binary=False,...</td>\n",
       "      <td>0.882</td>\n",
       "      <td>0.886</td>\n",
       "      <td>0.818</td>\n",
       "      <td>0.961</td>\n",
       "      <td>0.039</td>\n",
       "      <td>0.886</td>\n",
       "      <td>0.114</td>\n",
       "      <td>0.936</td>\n",
       "    </tr>\n",
       "    <tr>\n",
       "      <td>3</td>\n",
       "      <td>(CountVectorizer(analyzer='word', binary=False...</td>\n",
       "      <td>CountVectorizer(analyzer='word', binary=False,...</td>\n",
       "      <td>0.993</td>\n",
       "      <td>0.858</td>\n",
       "      <td>0.878</td>\n",
       "      <td>0.836</td>\n",
       "      <td>0.164</td>\n",
       "      <td>0.858</td>\n",
       "      <td>0.142</td>\n",
       "      <td>0.854</td>\n",
       "    </tr>\n",
       "    <tr>\n",
       "      <td>4</td>\n",
       "      <td>(CountVectorizer(analyzer='word', binary=False...</td>\n",
       "      <td>CountVectorizer(analyzer='word', binary=False,...</td>\n",
       "      <td>0.982</td>\n",
       "      <td>0.886</td>\n",
       "      <td>0.872</td>\n",
       "      <td>0.900</td>\n",
       "      <td>0.100</td>\n",
       "      <td>0.886</td>\n",
       "      <td>0.114</td>\n",
       "      <td>0.933</td>\n",
       "    </tr>\n",
       "    <tr>\n",
       "      <td>5</td>\n",
       "      <td>(CountVectorizer(analyzer='word', binary=False...</td>\n",
       "      <td>CountVectorizer(analyzer='word', binary=False,...</td>\n",
       "      <td>0.982</td>\n",
       "      <td>0.887</td>\n",
       "      <td>0.855</td>\n",
       "      <td>0.922</td>\n",
       "      <td>0.078</td>\n",
       "      <td>0.887</td>\n",
       "      <td>0.113</td>\n",
       "      <td>0.937</td>\n",
       "    </tr>\n",
       "    <tr>\n",
       "      <td>6</td>\n",
       "      <td>(TfidfVectorizer(analyzer='word', binary=False...</td>\n",
       "      <td>TfidfVectorizer(analyzer='word', binary=False,...</td>\n",
       "      <td>0.909</td>\n",
       "      <td>0.897</td>\n",
       "      <td>0.858</td>\n",
       "      <td>0.942</td>\n",
       "      <td>0.058</td>\n",
       "      <td>0.897</td>\n",
       "      <td>0.103</td>\n",
       "      <td>0.944</td>\n",
       "    </tr>\n",
       "    <tr>\n",
       "      <td>7</td>\n",
       "      <td>(TfidfVectorizer(analyzer='word', binary=False...</td>\n",
       "      <td>TfidfVectorizer(analyzer='word', binary=False,...</td>\n",
       "      <td>0.905</td>\n",
       "      <td>0.870</td>\n",
       "      <td>0.840</td>\n",
       "      <td>0.903</td>\n",
       "      <td>0.097</td>\n",
       "      <td>0.870</td>\n",
       "      <td>0.130</td>\n",
       "      <td>0.917</td>\n",
       "    </tr>\n",
       "    <tr>\n",
       "      <td>8</td>\n",
       "      <td>(TfidfVectorizer(analyzer='word', binary=False...</td>\n",
       "      <td>TfidfVectorizer(analyzer='word', binary=False,...</td>\n",
       "      <td>0.887</td>\n",
       "      <td>0.891</td>\n",
       "      <td>0.828</td>\n",
       "      <td>0.961</td>\n",
       "      <td>0.039</td>\n",
       "      <td>0.891</td>\n",
       "      <td>0.109</td>\n",
       "      <td>0.941</td>\n",
       "    </tr>\n",
       "    <tr>\n",
       "      <td>9</td>\n",
       "      <td>(TfidfVectorizer(analyzer='word', binary=False...</td>\n",
       "      <td>TfidfVectorizer(analyzer='word', binary=False,...</td>\n",
       "      <td>0.953</td>\n",
       "      <td>0.866</td>\n",
       "      <td>0.842</td>\n",
       "      <td>0.892</td>\n",
       "      <td>0.108</td>\n",
       "      <td>0.866</td>\n",
       "      <td>0.134</td>\n",
       "      <td>0.876</td>\n",
       "    </tr>\n",
       "    <tr>\n",
       "      <td>10</td>\n",
       "      <td>(TfidfVectorizer(analyzer='word', binary=False...</td>\n",
       "      <td>TfidfVectorizer(analyzer='word', binary=False,...</td>\n",
       "      <td>0.984</td>\n",
       "      <td>0.880</td>\n",
       "      <td>0.865</td>\n",
       "      <td>0.897</td>\n",
       "      <td>0.103</td>\n",
       "      <td>0.880</td>\n",
       "      <td>0.120</td>\n",
       "      <td>0.939</td>\n",
       "    </tr>\n",
       "    <tr>\n",
       "      <td>11</td>\n",
       "      <td>(TfidfVectorizer(analyzer='word', binary=False...</td>\n",
       "      <td>TfidfVectorizer(analyzer='word', binary=False,...</td>\n",
       "      <td>0.983</td>\n",
       "      <td>0.886</td>\n",
       "      <td>0.865</td>\n",
       "      <td>0.908</td>\n",
       "      <td>0.092</td>\n",
       "      <td>0.886</td>\n",
       "      <td>0.114</td>\n",
       "      <td>0.936</td>\n",
       "    </tr>\n",
       "  </tbody>\n",
       "</table>\n",
       "</div>"
      ],
      "text/plain": [
       "                                                Model  \\\n",
       "0   (CountVectorizer(analyzer='word', binary=False...   \n",
       "1   (CountVectorizer(analyzer='word', binary=False...   \n",
       "2   (CountVectorizer(analyzer='word', binary=False...   \n",
       "3   (CountVectorizer(analyzer='word', binary=False...   \n",
       "4   (CountVectorizer(analyzer='word', binary=False...   \n",
       "5   (CountVectorizer(analyzer='word', binary=False...   \n",
       "6   (TfidfVectorizer(analyzer='word', binary=False...   \n",
       "7   (TfidfVectorizer(analyzer='word', binary=False...   \n",
       "8   (TfidfVectorizer(analyzer='word', binary=False...   \n",
       "9   (TfidfVectorizer(analyzer='word', binary=False...   \n",
       "10  (TfidfVectorizer(analyzer='word', binary=False...   \n",
       "11  (TfidfVectorizer(analyzer='word', binary=False...   \n",
       "\n",
       "                                           Vectorizer  Training Score  \\\n",
       "0   CountVectorizer(analyzer='word', binary=False,...           0.960   \n",
       "1   CountVectorizer(analyzer='word', binary=False,...           0.907   \n",
       "2   CountVectorizer(analyzer='word', binary=False,...           0.882   \n",
       "3   CountVectorizer(analyzer='word', binary=False,...           0.993   \n",
       "4   CountVectorizer(analyzer='word', binary=False,...           0.982   \n",
       "5   CountVectorizer(analyzer='word', binary=False,...           0.982   \n",
       "6   TfidfVectorizer(analyzer='word', binary=False,...           0.909   \n",
       "7   TfidfVectorizer(analyzer='word', binary=False,...           0.905   \n",
       "8   TfidfVectorizer(analyzer='word', binary=False,...           0.887   \n",
       "9   TfidfVectorizer(analyzer='word', binary=False,...           0.953   \n",
       "10  TfidfVectorizer(analyzer='word', binary=False,...           0.984   \n",
       "11  TfidfVectorizer(analyzer='word', binary=False,...           0.983   \n",
       "\n",
       "    Testing Score  Sensitivity  Specificity  False Positive Rate  Accuracy  \\\n",
       "0           0.897        0.872        0.925                0.075     0.897   \n",
       "1           0.896        0.840        0.958                0.042     0.896   \n",
       "2           0.886        0.818        0.961                0.039     0.886   \n",
       "3           0.858        0.878        0.836                0.164     0.858   \n",
       "4           0.886        0.872        0.900                0.100     0.886   \n",
       "5           0.887        0.855        0.922                0.078     0.887   \n",
       "6           0.897        0.858        0.942                0.058     0.897   \n",
       "7           0.870        0.840        0.903                0.097     0.870   \n",
       "8           0.891        0.828        0.961                0.039     0.891   \n",
       "9           0.866        0.842        0.892                0.108     0.866   \n",
       "10          0.880        0.865        0.897                0.103     0.880   \n",
       "11          0.886        0.865        0.908                0.092     0.886   \n",
       "\n",
       "    Misclassification Rate  ROC AUC Score  \n",
       "0                    0.103          0.949  \n",
       "1                    0.104          0.942  \n",
       "2                    0.114          0.936  \n",
       "3                    0.142          0.854  \n",
       "4                    0.114          0.933  \n",
       "5                    0.113          0.937  \n",
       "6                    0.103          0.944  \n",
       "7                    0.130          0.917  \n",
       "8                    0.109          0.941  \n",
       "9                    0.134          0.876  \n",
       "10                   0.120          0.939  \n",
       "11                   0.114          0.936  "
      ]
     },
     "execution_count": 23,
     "metadata": {},
     "output_type": "execute_result"
    }
   ],
   "source": [
    "results_stem = multi_pipe(vectorizers, models)\n",
    "results_stem"
   ]
  },
  {
   "cell_type": "markdown",
   "metadata": {},
   "source": [
    "**Best Model:** CountVectorizer on Logistic Regression"
   ]
  },
  {
   "cell_type": "code",
   "execution_count": 24,
   "metadata": {},
   "outputs": [
    {
     "data": {
      "text/plain": [
       "Pipeline(memory=None,\n",
       "         steps=[('vec',\n",
       "                 CountVectorizer(analyzer='word', binary=False,\n",
       "                                 decode_error='strict',\n",
       "                                 dtype=<class 'numpy.int64'>, encoding='utf-8',\n",
       "                                 input='content', lowercase=True, max_df=1.0,\n",
       "                                 max_features=2000, min_df=1,\n",
       "                                 ngram_range=(1, 2), preprocessor=None,\n",
       "                                 stop_words='english', strip_accents=None,\n",
       "                                 token_pattern='(?u)\\\\b\\\\w\\\\w+\\\\b',\n",
       "                                 tokenizer=None, vocabulary=None)),\n",
       "                ('model',\n",
       "                 LogisticRegression(C=1.0, class_weight=None, dual=False,\n",
       "                                    fit_intercept=True, intercept_scaling=1,\n",
       "                                    l1_ratio=None, max_iter=100,\n",
       "                                    multi_class='warn', n_jobs=None,\n",
       "                                    penalty='l2', random_state=None,\n",
       "                                    solver='warn', tol=0.0001, verbose=0,\n",
       "                                    warm_start=False))],\n",
       "         verbose=False)"
      ]
     },
     "execution_count": 24,
     "metadata": {},
     "output_type": "execute_result"
    }
   ],
   "source": [
    "results_stem['Model'][0]"
   ]
  },
  {
   "cell_type": "code",
   "execution_count": 25,
   "metadata": {},
   "outputs": [],
   "source": [
    "best_pipe = results_stem['Model'][0]"
   ]
  },
  {
   "cell_type": "code",
   "execution_count": 26,
   "metadata": {},
   "outputs": [
    {
     "data": {
      "text/html": [
       "<div>\n",
       "<style scoped>\n",
       "    .dataframe tbody tr th:only-of-type {\n",
       "        vertical-align: middle;\n",
       "    }\n",
       "\n",
       "    .dataframe tbody tr th {\n",
       "        vertical-align: top;\n",
       "    }\n",
       "\n",
       "    .dataframe thead th {\n",
       "        text-align: right;\n",
       "    }\n",
       "</style>\n",
       "<table border=\"1\" class=\"dataframe\">\n",
       "  <thead>\n",
       "    <tr style=\"text-align: right;\">\n",
       "      <th></th>\n",
       "      <th>true_values</th>\n",
       "      <th>pred_probs</th>\n",
       "    </tr>\n",
       "  </thead>\n",
       "  <tbody>\n",
       "    <tr>\n",
       "      <td>2479</td>\n",
       "      <td>1</td>\n",
       "      <td>0.991616</td>\n",
       "    </tr>\n",
       "    <tr>\n",
       "      <td>130</td>\n",
       "      <td>0</td>\n",
       "      <td>0.011536</td>\n",
       "    </tr>\n",
       "    <tr>\n",
       "      <td>2865</td>\n",
       "      <td>0</td>\n",
       "      <td>0.005426</td>\n",
       "    </tr>\n",
       "    <tr>\n",
       "      <td>1553</td>\n",
       "      <td>1</td>\n",
       "      <td>0.995866</td>\n",
       "    </tr>\n",
       "    <tr>\n",
       "      <td>1558</td>\n",
       "      <td>1</td>\n",
       "      <td>0.996790</td>\n",
       "    </tr>\n",
       "  </tbody>\n",
       "</table>\n",
       "</div>"
      ],
      "text/plain": [
       "      true_values  pred_probs\n",
       "2479            1    0.991616\n",
       "130             0    0.011536\n",
       "2865            0    0.005426\n",
       "1553            1    0.995866\n",
       "1558            1    0.996790"
      ]
     },
     "execution_count": 26,
     "metadata": {},
     "output_type": "execute_result"
    }
   ],
   "source": [
    "pred_proba = [i[1] for i in best_pipe.predict_proba(X_test)] #pred prob that each person is dead outcome_dummy = 1\n",
    "\n",
    "pred_df = pd.DataFrame(data = {'true_values': y_test,'pred_probs':pred_proba})\n",
    "pred_df.head()"
   ]
  },
  {
   "cell_type": "code",
   "execution_count": 27,
   "metadata": {},
   "outputs": [
    {
     "data": {
      "image/png": "[encoded data removed]",
      "text/plain": [
       "<Figure size 720x504 with 1 Axes>"
      ]
     },
     "metadata": {
      "needs_background": "light"
     },
     "output_type": "display_data"
    }
   ],
   "source": [
    "plt.figure(figsize = (10,7))\n",
    "\n",
    "# Create threshold values. (Dashed red line in image.)\n",
    "thresholds = np.linspace(0, 1, 200)\n",
    "\n",
    "# Define function to calculate sensitivity. (True positive rate.)\n",
    "def TPR(df, true_col, pred_prob_col, threshold):\n",
    "    true_positive = df[(df[true_col] == 1) & (df[pred_prob_col] >= threshold)].shape[0]\n",
    "    false_negative = df[(df[true_col] == 1) & (df[pred_prob_col] < threshold)].shape[0]\n",
    "    return true_positive / (true_positive + false_negative)\n",
    "    \n",
    "\n",
    "# Define function to calculate 1 - specificity. (False positive rate.)\n",
    "def FPR(df, true_col, pred_prob_col, threshold):\n",
    "    true_negative = df[(df[true_col] == 0) & (df[pred_prob_col] <= threshold)].shape[0]\n",
    "    false_positive = df[(df[true_col] == 0) & (df[pred_prob_col] > threshold)].shape[0]\n",
    "    return 1 - (true_negative / (true_negative + false_positive))\n",
    "    \n",
    "# Calculate sensitivity & 1-specificity for each threshold between 0 and 1.\n",
    "tpr_values = [TPR(pred_df, 'true_values', 'pred_probs', prob) for prob in thresholds]\n",
    "fpr_values = [FPR(pred_df, 'true_values', 'pred_probs', prob) for prob in thresholds]\n",
    "\n",
    "# Plot ROC curve.\n",
    "plt.plot(fpr_values, # False Positive Rate on X-axis\n",
    "         tpr_values, # True Positive Rate on Y-axis\n",
    "         label='ROC Curve')\n",
    "\n",
    "# Plot baseline. (Perfect overlap between the two populations.)\n",
    "plt.plot(np.linspace(0, 1, 200),\n",
    "         np.linspace(0, 1, 200),\n",
    "         label='baseline',\n",
    "         linestyle='--')\n",
    "\n",
    "# Label axes.\n",
    "plt.title(f'ROC Curve with AUC = {round(roc_auc_score(pred_df[\"true_values\"], pred_df[\"pred_probs\"]),3)}', fontsize=22)\n",
    "plt.ylabel('Sensitivity', fontsize=18)\n",
    "plt.xlabel('1 - Specificity', fontsize=18)\n",
    "\n",
    "# Create legend.\n",
    "plt.legend(fontsize=16);"
   ]
  },
  {
   "cell_type": "markdown",
   "metadata": {},
   "source": [
    "### Baseline Model "
   ]
  },
  {
   "cell_type": "code",
   "execution_count": 28,
   "metadata": {},
   "outputs": [
    {
     "data": {
      "text/plain": [
       "1    0.525831\n",
       "0    0.474169\n",
       "Name: target, dtype: float64"
      ]
     },
     "execution_count": 28,
     "metadata": {},
     "output_type": "execute_result"
    }
   ],
   "source": [
    "# Baseline accuracy to tell if our model is better than null model\n",
    "#baseline model is the majority class\n",
    "y.value_counts(normalize=True)"
   ]
  }
 ],
 "metadata": {
  "kernelspec": {
   "display_name": "Python 3",
   "language": "python",
   "name": "python3"
  },
  "language_info": {
   "codemirror_mode": {
    "name": "ipython",
    "version": 3
   },
   "file_extension": ".py",
   "mimetype": "text/x-python",
   "name": "python",
   "nbconvert_exporter": "python",
   "pygments_lexer": "ipython3",
   "version": "3.7.4"
  }
 },
 "nbformat": 4,
 "nbformat_minor": 2
}
